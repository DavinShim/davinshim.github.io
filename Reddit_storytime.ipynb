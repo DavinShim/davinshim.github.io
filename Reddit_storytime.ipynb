{
  "cells": [
    {
      "cell_type": "markdown",
      "metadata": {
        "id": "view-in-github",
        "colab_type": "text"
      },
      "source": [
        "<a href=\"https://colab.research.google.com/github/DavinShim/davinshim.github.io/blob/master/Reddit_storytime.ipynb\" target=\"_parent\"><img src=\"https://colab.research.google.com/assets/colab-badge.svg\" alt=\"Open In Colab\"/></a>"
      ]
    },
    {
      "cell_type": "code",
      "source": [
        "\n",
        "!pip install pyt2s\n",
        "\n",
        "from pyt2s.services import stream_elements\n",
        "import moviepy.editor as mpe\n",
        "import random\n",
        "\n",
        "obj = stream_elements.StreamElements()\n",
        "\n",
        "content = input(\"Enter your story:\")\n",
        "#creates storytime audio from the text content\n",
        "data = obj.requestTTS(content, 'Russell')\n",
        "\n",
        "#saves the storytime audio\n",
        "with open('output.mp3', '+wb') as file:\n",
        "    file.write(data)\n",
        "\n",
        "def overlay_audio(audio_path, video_path, output_path):\n",
        "  \"\"\"\n",
        "  Overlays an audio file on top of a video file.\n",
        "\n",
        "  Args:\n",
        "    audio_path: The path to the audio file.\n",
        "    video_path: The path to the video file.\n",
        "    output_path: The path to the output video file.\n",
        "\n",
        "  Returns:\n",
        "    None\n",
        "  \"\"\"\n",
        "\n",
        "  # Load the audio and video files\n",
        "  audio = mpe.AudioFileClip(audio_path)\n",
        "  video = mpe.VideoFileClip(video_path)\n",
        "\n",
        "  # Check if the audio is longer than the video\n",
        "  if audio.duration > video.duration:\n",
        "    # Loop the video until it is equal to the duration of the audio\n",
        "    video = video.loop(n=int(audio.duration / video.duration) + 1)\n",
        "\n",
        "  # Check if the video is longer than the audio\n",
        "  elif video.duration > audio.duration:\n",
        "    # Start at a random part of the video and cut out a segment equal in length to the audio\n",
        "    start_time = random.uniform(0, video.duration - audio.duration)\n",
        "    video = video.subclip(start_time, start_time + audio.duration)\n",
        "\n",
        "  # Overlay the audio on top of the video\n",
        "  video = video.set_audio(audio)\n",
        "\n",
        "  # Write the output video file\n",
        "  video.write_videofile(output_path)\n",
        "\n",
        "\n",
        "from google.colab import files\n",
        "import os\n",
        "import time\n",
        "import datetime\n",
        "\n",
        "uploaded = files.upload() #upload of background video\n",
        "filename = next(iter(uploaded)) # Extract the file name from the dictionary\n",
        "\n",
        "audio_path = \"output.mp3\"\n",
        "video_path = filename\n",
        "output_path = \"output.mp4\"\n",
        "overlay_audio(audio_path, video_path, output_path)\n"
      ],
      "metadata": {
        "id": "Yw-kUvDT5NDn"
      },
      "execution_count": null,
      "outputs": []
    }
  ],
  "metadata": {
    "colab": {
      "provenance": [],
      "include_colab_link": true
    },
    "kernelspec": {
      "display_name": "Python 3 (ipykernel)",
      "language": "python",
      "name": "python3"
    },
    "language_info": {
      "codemirror_mode": {
        "name": "ipython",
        "version": 3
      },
      "file_extension": ".py",
      "mimetype": "text/x-python",
      "name": "python",
      "nbconvert_exporter": "python",
      "pygments_lexer": "ipython3",
      "version": "3.8.10"
    }
  },
  "nbformat": 4,
  "nbformat_minor": 0
}