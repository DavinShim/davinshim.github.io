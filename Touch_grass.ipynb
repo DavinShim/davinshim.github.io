{
  "cells": [
    {
      "cell_type": "markdown",
      "metadata": {
        "id": "view-in-github",
        "colab_type": "text"
      },
      "source": [
        "<a href=\"https://colab.research.google.com/github/DavinShim/davinshim.github.io/blob/master/Touch_grass.ipynb\" target=\"_parent\"><img src=\"https://colab.research.google.com/assets/colab-badge.svg\" alt=\"Open In Colab\"/></a>"
      ]
    },
    {
      "cell_type": "code",
      "execution_count": null,
      "metadata": {
        "id": "Yl_Oiye4mUuo"
      },
      "outputs": [],
      "source": [
        "!pip install -q mediapipe==0.10.0\n",
        "!wget -O classifier.tflite -q https://storage.googleapis.com/mediapipe-models/image_classifier/efficientnet_lite0/float32/1/efficientnet_lite0.tflite\n",
        "# STEP 1: Import the necessary modules.\n",
        "import mediapipe as mp\n",
        "from mediapipe.tasks import python\n",
        "from mediapipe.tasks.python.components import processors\n",
        "from mediapipe.tasks.python import vision\n",
        "import requests\n",
        "\n",
        "def classify(image_name):\n",
        "  if image_name.startswith('http'):\n",
        "    image = mp.Image.create_from_uri(image_name)\n",
        "  else:\n",
        "    image = mp.Image.create_from_file(image_name)\n",
        "  classification_result = classifier.classify(image)\n",
        "  lit = []\n",
        "  for x in range(4):\n",
        "    name = classification_result.classifications[0].categories[x]\n",
        "    name = f\"{name.category_name}\"\n",
        "    lit.append(name)\n",
        "  return lit\n",
        "\n",
        "  #return name\n",
        "# STEP 2: Create an ImageClassifier object.\n",
        "base_options = python.BaseOptions(model_asset_path='classifier.tflite')\n",
        "options = vision.ImageClassifierOptions(\n",
        "    base_options=base_options, max_results=4)\n",
        "classifier = vision.ImageClassifier.create_from_options(options)\n",
        "\n",
        "\n",
        "\n",
        "\n",
        "def is_nature_image(image_name):\n",
        "  guests = classify(image_name)\n",
        "  nature_keywords = ['tree', 'flower', 'mountain', 'sky', 'water', 'landscape', 'vase', 'pot', 'picket_fence', 'greenhouse', 'bubble', 'mask', 'clog', 'lakeside', 'park', 'seed', 'patio', 'lawn', 'thatch', 'lake', 'grass', 'alp', 'valley', 'plant', 'golf', 'wood', 'hare', 'rabbit', 'corn', 'ear', 'croquet']\n",
        "  is_nature = False\n",
        "  for a in guests:\n",
        "    is_nature = any(keyword in a.lower() for keyword in nature_keywords)\n",
        "    if is_nature:\n",
        "      break\n",
        "  return is_nature\n",
        "\n",
        "\n",
        "\n",
        "from google.colab import files\n",
        "import os\n",
        "import time\n",
        "import datetime\n",
        "\n",
        "keep_going = 'y'\n",
        "while keep_going == 'y':\n",
        "  uploaded = files.upload()\n",
        "  filename = next(iter(uploaded)) # Extract the file name from the dictionary\n",
        "  if is_nature_image(filename):\n",
        "    print(\"good job :)\")\n",
        "  else:\n",
        "    print('go outside')\n",
        "  keep_going = input('do you want to continue? y/n')\n",
        "\n"
      ]
    }
  ],
  "metadata": {
    "colab": {
      "provenance": [],
      "include_colab_link": true
    },
    "kernelspec": {
      "display_name": "Python 3 (ipykernel)",
      "language": "python",
      "name": "python3"
    },
    "language_info": {
      "codemirror_mode": {
        "name": "ipython",
        "version": 3
      },
      "file_extension": ".py",
      "mimetype": "text/x-python",
      "name": "python",
      "nbconvert_exporter": "python",
      "pygments_lexer": "ipython3",
      "version": "3.8.10"
    }
  },
  "nbformat": 4,
  "nbformat_minor": 0
}